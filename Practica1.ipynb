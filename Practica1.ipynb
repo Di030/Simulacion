{
  "nbformat": 4,
  "nbformat_minor": 0,
  "metadata": {
    "colab": {
      "provenance": [],
      "authorship_tag": "ABX9TyMtEIuqCogYCaf/vbbXvyhI",
      "include_colab_link": true
    },
    "kernelspec": {
      "name": "python3",
      "display_name": "Python 3"
    },
    "language_info": {
      "name": "python"
    }
  },
  "cells": [
    {
      "cell_type": "markdown",
      "metadata": {
        "id": "view-in-github",
        "colab_type": "text"
      },
      "source": [
        "<a href=\"https://colab.research.google.com/github/Di030/Simulacion/blob/main/Practica1.ipynb\" target=\"_parent\"><img src=\"https://colab.research.google.com/assets/colab-badge.svg\" alt=\"Open In Colab\"/></a>"
      ]
    },
    {
      "cell_type": "markdown",
      "source": [
        "#Simulacion\n",
        "##Practica 1 unidad 2\n",
        "###Alumno: Reyes Gutiérrez Diego"
      ],
      "metadata": {
        "id": "xukkAGuWjP0r"
      }
    },
    {
      "cell_type": "code",
      "execution_count": 1,
      "metadata": {
        "colab": {
          "base_uri": "https://localhost:8080/"
        },
        "id": "YqCkbqUcjIer",
        "outputId": "af845590-ef5f-420b-d8b8-09ccc7a2ca5f"
      },
      "outputs": [
        {
          "output_type": "stream",
          "name": "stdout",
          "text": [
            "Número aleatorio 1: 200\n",
            "Número aleatorio 2: 400\n",
            "Número aleatorio 3: 1600\n",
            "Número aleatorio 4: 5600\n",
            "Número aleatorio 5: 3600\n",
            "Número aleatorio 6: 9600\n",
            "Número aleatorio 7: 1600\n",
            "Número aleatorio 8: 5600\n",
            "Número aleatorio 9: 3600\n",
            "Número aleatorio 10: 9600\n",
            "Número aleatorio 11: 1600\n",
            "Número aleatorio 12: 5600\n",
            "Número aleatorio 13: 3600\n",
            "Número aleatorio 14: 9600\n",
            "Número aleatorio 15: 1600\n",
            "Número aleatorio 16: 5600\n",
            "Número aleatorio 17: 3600\n",
            "Número aleatorio 18: 9600\n",
            "Número aleatorio 19: 1600\n",
            "Número aleatorio 20: 5600\n",
            "Número aleatorio 21: 3600\n",
            "Número aleatorio 22: 9600\n",
            "Número aleatorio 23: 1600\n",
            "Número aleatorio 24: 5600\n",
            "Número aleatorio 25: 3600\n",
            "Número aleatorio 26: 9600\n",
            "Número aleatorio 27: 1600\n",
            "Número aleatorio 28: 5600\n",
            "Número aleatorio 29: 3600\n",
            "Número aleatorio 30: 9600\n",
            "Número aleatorio 31: 1600\n",
            "Número aleatorio 32: 5600\n",
            "Número aleatorio 33: 3600\n",
            "Número aleatorio 34: 9600\n",
            "Número aleatorio 35: 1600\n",
            "Número aleatorio 36: 5600\n",
            "Número aleatorio 37: 3600\n",
            "Número aleatorio 38: 9600\n",
            "Número aleatorio 39: 1600\n",
            "Número aleatorio 40: 5600\n",
            "Número aleatorio 41: 3600\n",
            "Número aleatorio 42: 9600\n",
            "Número aleatorio 43: 1600\n",
            "Número aleatorio 44: 5600\n",
            "Número aleatorio 45: 3600\n",
            "Número aleatorio 46: 9600\n",
            "Número aleatorio 47: 1600\n",
            "Número aleatorio 48: 5600\n",
            "Número aleatorio 49: 3600\n",
            "Número aleatorio 50: 9600\n",
            "Número aleatorio 51: 1600\n",
            "Número aleatorio 52: 5600\n",
            "Número aleatorio 53: 3600\n",
            "Número aleatorio 54: 9600\n",
            "Número aleatorio 55: 1600\n",
            "Número aleatorio 56: 5600\n",
            "Número aleatorio 57: 3600\n",
            "Número aleatorio 58: 9600\n",
            "Número aleatorio 59: 1600\n",
            "Número aleatorio 60: 5600\n",
            "Número aleatorio 61: 3600\n",
            "Número aleatorio 62: 9600\n",
            "Número aleatorio 63: 1600\n",
            "Número aleatorio 64: 5600\n",
            "Número aleatorio 65: 3600\n",
            "Número aleatorio 66: 9600\n",
            "Número aleatorio 67: 1600\n",
            "Número aleatorio 68: 5600\n",
            "Número aleatorio 69: 3600\n",
            "Número aleatorio 70: 9600\n",
            "Número aleatorio 71: 1600\n",
            "Número aleatorio 72: 5600\n",
            "Número aleatorio 73: 3600\n",
            "Número aleatorio 74: 9600\n",
            "Número aleatorio 75: 1600\n",
            "Número aleatorio 76: 5600\n",
            "Número aleatorio 77: 3600\n",
            "Número aleatorio 78: 9600\n",
            "Número aleatorio 79: 1600\n",
            "Número aleatorio 80: 5600\n",
            "Número aleatorio 81: 3600\n",
            "Número aleatorio 82: 9600\n",
            "Número aleatorio 83: 1600\n",
            "Número aleatorio 84: 5600\n",
            "Número aleatorio 85: 3600\n",
            "Número aleatorio 86: 9600\n",
            "Número aleatorio 87: 1600\n",
            "Número aleatorio 88: 5600\n",
            "Número aleatorio 89: 3600\n",
            "Número aleatorio 90: 9600\n",
            "Número aleatorio 91: 1600\n",
            "Número aleatorio 92: 5600\n",
            "Número aleatorio 93: 3600\n",
            "Número aleatorio 94: 9600\n",
            "Número aleatorio 95: 1600\n",
            "Número aleatorio 96: 5600\n",
            "Número aleatorio 97: 3600\n",
            "Número aleatorio 98: 9600\n",
            "Número aleatorio 99: 1600\n",
            "Número aleatorio 100: 5600\n"
          ]
        }
      ],
      "source": [
        "semilla=2005\n",
        "n=4\n",
        "iteraciones=100\n",
        "resultados=[]\n",
        "\n",
        "for _ in range(iteraciones):\n",
        "    cuadrado=str(semilla**2).zfill(2*n)\n",
        "    inicio=(len(cuadrado)-n)//2\n",
        "    semilla=int(cuadrado[inicio:inicio+n])\n",
        "    resultados.append(semilla)\n",
        "\n",
        "for i, numero in enumerate(resultados, 1):\n",
        "    print(f\"Número aleatorio {i}: {numero}\")"
      ]
    }
  ]
}